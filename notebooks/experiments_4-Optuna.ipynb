{
 "cells": [
  {
   "cell_type": "code",
   "execution_count": null,
   "id": "5f7c7618-16c3-40dc-a685-d0c5a082fb30",
   "metadata": {},
   "outputs": [],
   "source": [
    "import copy\n",
    "#import matplotlib.pyplot as plt\n",
    "import numpy as np\n",
    "import optuna\n",
    "import pandas as pd\n",
    "import re\n",
    "\n",
    "from catboost import CatBoostRegressor\n",
    "from geopy.distance import geodesic\n",
    "from sklearn.metrics import mean_absolute_error\n",
    "from sklearn.model_selection import train_test_split\n",
    "#from sklearn.neighbors import KNeighborsRegressor\n",
    "from sklearn.preprocessing import StandardScaler\n",
    "#from sklearn.svm import SVR"
   ]
  },
  {
   "cell_type": "markdown",
   "id": "c69d563e-b346-49ac-8713-4aaa29fae5ea",
   "metadata": {},
   "source": [
    "  "
   ]
  },
  {
   "cell_type": "code",
   "execution_count": 2,
   "id": "ae4626c9-cf5b-4733-a921-f5747ff83804",
   "metadata": {},
   "outputs": [],
   "source": [
    "# Функция для преобразования формата скорости ветра\n",
    "\n",
    "def extract_value(value):\n",
    "    if isinstance(value, (int, float)):\n",
    "        return value\n",
    "    match = re.search(r'\\((\\d+\\.\\d+)\\)', str(value))\n",
    "    if match:\n",
    "        return float(match.group(1))\n",
    "    return value"
   ]
  },
  {
   "cell_type": "code",
   "execution_count": 3,
   "id": "3f42c975-8d41-458f-9dd7-2f51c0044bf8",
   "metadata": {},
   "outputs": [],
   "source": [
    "# Функция загрузки и подготовки данных по нужным веществам из всех 6 геоточек\n",
    "\n",
    "def load_data(num, all_substances, meteo_params):\n",
    "    '''num - номер геоточки\n",
    "       all_substances - названия загрязняющих веществ\n",
    "    '''\n",
    "    \n",
    "    point = pd.read_excel(f'../data/raw/Усредненные_данные_Нижнекамск_т.{num}.xlsx')\n",
    "    indexes = list(point.loc[0])\n",
    "    indexes = indexes[1:]\n",
    "    point = point.loc[3:].set_index('Интервал отбора')\n",
    "    point.columns = indexes\n",
    "\n",
    "    point = point.apply(lambda x: x.str.replace(',', '.'))\n",
    "    point['V ветра, м/с'] = point['V ветра, м/с'].apply(extract_value)\n",
    "    point[['Угол ветра, °', 'Направление ветра']] = point['D ветра, °'].str.extract(r'(\\d+)\\s?\\((.+)\\)')\n",
    "    point['Направление ветра'].replace(np.NaN, 'Ш', inplace=True)\n",
    "        \n",
    "    # Пересечение множеств названий столбцов и substances\n",
    "    substances = set(indexes) & set(all_substances)\n",
    "    columns = [*substances, *meteo_params]\n",
    "    point = point[columns]\n",
    "\n",
    "    # Заполнение пропусков, если их в столбце не более 5%\n",
    "    for col in point.columns:\n",
    "        point[col] = pd.to_numeric(point[col], errors='ignore')\n",
    "        if point[col].isna().sum().sum() / len(point) < 0.05:\n",
    "            point[col].interpolate(inplace=True)\n",
    "        \n",
    "    return point"
   ]
  },
  {
   "cell_type": "code",
   "execution_count": 4,
   "id": "1c0e372c-7201-456c-86d0-239b1d998188",
   "metadata": {},
   "outputs": [],
   "source": [
    "def melt_columns(df, substances, Mr, meteo_params):\n",
    "    \"\"\"Функция 'расплавления' столбцов с веществами\"\"\"\n",
    "    \n",
    "    df = pd.melt(df, id_vars=meteo_params, ignore_index=False)\n",
    "\n",
    "    # Закодируем названия веществ их молекулярной массой\n",
    "    df.replace(substances, Mr, inplace=True)\n",
    "    df.rename(columns={\"variable\": \"Mr\", \"value\": \"C, мг/м³\"}, inplace=True)\n",
    "\n",
    "    df[\"Mr\"] = pd.to_numeric(df[\"Mr\"], errors='coerce')\n",
    "\n",
    "    return df"
   ]
  },
  {
   "cell_type": "code",
   "execution_count": 5,
   "id": "f0c6569c-f8e5-416f-b23b-984fc97a25d2",
   "metadata": {},
   "outputs": [],
   "source": [
    "def make_df(df, num, target_num, lags=None):\n",
    "    '''Функция предобработки датасета с предикторами\n",
    "       num - номер геоточки\n",
    "       target_num - номер точки, в которой модель будет считать концентрацию\n",
    "    '''\n",
    "\n",
    "    coor = locations_list[num - 1]\n",
    "    target_coor = locations_list[target_num - 1]\n",
    "\n",
    "    df = df.copy()\n",
    "    df.dropna(inplace=True)\n",
    "    df['lat'], df['lon'] = coor\n",
    "\n",
    "    # Добавим расстояние от данной точки до точки c target_coor в качестве входной переменной\n",
    "    df['distance, km'] = geodesic(coor, target_coor).km\n",
    "    \n",
    "    # Фичи c временными лагам\n",
    "    if lags:\n",
    "        for i in range(1, lags):\n",
    "            df[f\"T внеш_{i}\"] = df['T внеш., °C'].shift(i)\n",
    "            df[f\"P атм._{i}\"] = df['P атм., мм.рт.ст.'].shift(i)\n",
    "            df[f\"V ветра_{i}\"] = df['V ветра, м/с'].shift(i)\n",
    "            df[f\"Угол ветра_{i}\"] = df['Угол ветра, °'].shift(i)\n",
    "            df[f\"C, мг/м³_{i}\"] = df['C, мг/м³'].shift(i)\n",
    "    df.dropna(inplace=True)\n",
    "\n",
    "    return df"
   ]
  },
  {
   "cell_type": "code",
   "execution_count": 6,
   "id": "9394c828-98c8-48f1-b1bb-cbcaaac6b89a",
   "metadata": {},
   "outputs": [],
   "source": [
    "def concat_dfs(df_melted_list, num, lags=5):\n",
    "\n",
    "    X_list = [make_df(df, i+1, num, lags) for i, df in enumerate(df_melted_list)]\n",
    "    del X_list[num - 1]    # сопоставление точки самой с собой\n",
    "    X_num = pd.concat(X_list, axis=0)\n",
    "    return X_num"
   ]
  },
  {
   "cell_type": "code",
   "execution_count": 7,
   "id": "8e8b072b-d7d4-4055-885e-370f3f2f8c57",
   "metadata": {},
   "outputs": [],
   "source": [
    "def split_scale_df(X, y):\n",
    "    \n",
    "    # Разбиваем\n",
    "    X_train, X_test, y_train, y_test = train_test_split(X, y, test_size=0.3, random_state=1)\n",
    "    \n",
    "    # Масштабируем X\n",
    "    scl = StandardScaler()\n",
    "    scl.fit(X_train)\n",
    "    X_train_scl = scl.transform(X_train)\n",
    "    X_test_scl = scl.transform(X_test)\n",
    "\n",
    "    return X_train_scl, X_test_scl, y_train, y_test"
   ]
  },
  {
   "cell_type": "code",
   "execution_count": 8,
   "id": "a2d491e1-8050-4b35-b6cb-97e329387323",
   "metadata": {},
   "outputs": [],
   "source": [
    "def make_X_y():\n",
    "    X_list_substance = copy.deepcopy(X_num_list)\n",
    "    data_with_substance = []\n",
    "    \n",
    "    # Добавление целевой переменной\n",
    "    for (num, X_num), point in zip(enumerate(X_list_substance), points):\n",
    "        if substance in list(point):\n",
    "            data_with_substance.append(X_num)\n",
    "            data_with_substance[-1][f'target_{substance}'] = point[substance]\n",
    "            \n",
    "    X = pd.concat(data_with_substance, axis=0)\n",
    "    X.dropna(inplace=True)\n",
    "    X.drop_duplicates(inplace=True)\n",
    "    X = pd.get_dummies(X, columns=['Направление ветра'])\n",
    "    y = X.pop(f'target_{substance}')\n",
    "    return X, y"
   ]
  },
  {
   "cell_type": "markdown",
   "id": "df212e7a-77d5-4360-9e14-f89bd74f04e9",
   "metadata": {},
   "source": [
    "  "
   ]
  },
  {
   "cell_type": "code",
   "execution_count": 9,
   "id": "cb69911d-850d-4592-924f-17d6c00fcd77",
   "metadata": {},
   "outputs": [],
   "source": [
    "locations_list = [\n",
    "    [55.539306, 051.856451],    # д. Клятле\n",
    "    [55.622944, 051.825578],    # ул. Ахтубинская, 4б\n",
    "    [55.650091, 051.852687],    # ул. Гагарина, 32\n",
    "    [55.598983, 051.771936],    # ул. Юбилейная, 3\n",
    "    [55.613193, 051.784821],    # ул. Южная, 3\n",
    "    [55.654578, 051.800072]     # ул. Ямьле, 20\n",
    "    ]\n",
    "\n",
    "meteo_params = ['T внеш., °C',\n",
    "                'P атм., мм.рт.ст.',\n",
    "                'V ветра, м/с',\n",
    "                'Угол ветра, °',\n",
    "                'Направление ветра'\n",
    "               ]\n",
    "substances = ['CO, мг/м³',\n",
    "              'NO, мг/м³',\n",
    "              'NO2, мг/м³', \n",
    "              'NH3, мг/м³',\n",
    "              'SO2, мг/м³',\n",
    "              'H2S, мг/м³'\n",
    "              ]\n",
    "# Молекулярные массы веществ из substances\n",
    "Mr = [28, 30, 46, 17, 64, 34]\n",
    "\n",
    "# Временной лаг\n",
    "lags = 4"
   ]
  },
  {
   "cell_type": "markdown",
   "id": "d85174fa-a247-42b9-bf58-bf131719d7ef",
   "metadata": {},
   "source": [
    "  "
   ]
  },
  {
   "cell_type": "markdown",
   "id": "f860d084-1b72-42b9-b51b-f31a22dfb1d9",
   "metadata": {},
   "source": [
    "## Optuna"
   ]
  },
  {
   "cell_type": "code",
   "execution_count": 10,
   "id": "6edf6098-9801-40bb-98ef-1532750f217f",
   "metadata": {
    "scrolled": true
   },
   "outputs": [],
   "source": [
    "# Загрузка, обработка и объединение данных\n",
    "\n",
    "points = [load_data(i, substances, meteo_params) for i in range(1, 7)]\n",
    "df_melted_list = [melt_columns(df, substances, Mr, meteo_params) for df in points]\n",
    "X_num_list = [concat_dfs(df_melted_list, j+1, lags) for j in range(len(df_melted_list))]"
   ]
  },
  {
   "cell_type": "code",
   "execution_count": null,
   "id": "8531a273-e0ab-4d2e-a469-22d303aef77e",
   "metadata": {},
   "outputs": [],
   "source": []
  },
  {
   "cell_type": "code",
   "execution_count": 11,
   "id": "ffe614b4-88a5-4033-83b8-a65c50fb0255",
   "metadata": {},
   "outputs": [
    {
     "name": "stderr",
     "output_type": "stream",
     "text": [
      "[I 2023-10-27 12:21:34,168] A new study created in memory with name: no-name-db5ff638-ceef-4e9f-88bc-7d4b481f9b9e\n",
      "[I 2023-10-27 12:21:35,340] Trial 0 finished with value: 0.15252137976032187 and parameters: {'learning_rate': 0.021721380120411013, 'depth': 3, 'n_estimators': 15, 'l2_leaf_reg': 9.201357757049689}. Best is trial 0 with value: 0.15252137976032187.\n",
      "[I 2023-10-27 12:21:38,162] Trial 1 finished with value: 0.12680246908539577 and parameters: {'learning_rate': 0.03711872951915805, 'depth': 7, 'n_estimators': 124, 'l2_leaf_reg': 5.296569423836399}. Best is trial 1 with value: 0.12680246908539577.\n",
      "[I 2023-10-27 12:21:41,568] Trial 2 finished with value: 0.13272485550427057 and parameters: {'learning_rate': 0.03312784887999468, 'depth': 4, 'n_estimators': 295, 'l2_leaf_reg': 7.711313261159572}. Best is trial 1 with value: 0.12680246908539577.\n",
      "[I 2023-10-27 12:21:43,640] Trial 3 finished with value: 0.13421086654576084 and parameters: {'learning_rate': 0.09391654523976185, 'depth': 3, 'n_estimators': 151, 'l2_leaf_reg': 6.258441550001165}. Best is trial 1 with value: 0.12680246908539577.\n",
      "[I 2023-10-27 12:21:56,480] Trial 4 finished with value: 0.09354351403035878 and parameters: {'learning_rate': 0.08204619298335254, 'depth': 10, 'n_estimators': 181, 'l2_leaf_reg': 5.962048229419182}. Best is trial 4 with value: 0.09354351403035878.\n",
      "[I 2023-10-27 12:21:59,142] Trial 5 finished with value: 0.1451390531262945 and parameters: {'learning_rate': 0.006221021944335761, 'depth': 5, 'n_estimators': 168, 'l2_leaf_reg': 7.926795433674977}. Best is trial 4 with value: 0.09354351403035878.\n",
      "[I 2023-10-27 12:22:01,903] Trial 6 finished with value: 0.14102664229667194 and parameters: {'learning_rate': 0.01575704635369997, 'depth': 3, 'n_estimators': 246, 'l2_leaf_reg': 2.0382759359615057}. Best is trial 4 with value: 0.09354351403035878.\n",
      "[I 2023-10-27 12:22:03,580] Trial 7 finished with value: 0.1398550610200607 and parameters: {'learning_rate': 0.03865979647772402, 'depth': 9, 'n_estimators': 23, 'l2_leaf_reg': 4.634145982873574}. Best is trial 4 with value: 0.09354351403035878.\n",
      "[I 2023-10-27 12:22:04,890] Trial 8 finished with value: 0.1378747958058933 and parameters: {'learning_rate': 0.06720317859957907, 'depth': 8, 'n_estimators': 18, 'l2_leaf_reg': 5.958365933622864}. Best is trial 4 with value: 0.09354351403035878.\n",
      "[I 2023-10-27 12:22:07,807] Trial 9 finished with value: 0.12195741913212203 and parameters: {'learning_rate': 0.08901463446833278, 'depth': 5, 'n_estimators': 196, 'l2_leaf_reg': 9.966796136768467}. Best is trial 4 with value: 0.09354351403035878.\n",
      "[I 2023-10-27 12:22:15,447] Trial 10 finished with value: 0.10864805519416401 and parameters: {'learning_rate': 0.06408397501762805, 'depth': 10, 'n_estimators': 100, 'l2_leaf_reg': 3.294336768277912}. Best is trial 4 with value: 0.09354351403035878.\n",
      "[I 2023-10-27 12:22:23,095] Trial 11 finished with value: 0.10785647204559802 and parameters: {'learning_rate': 0.06430176687612156, 'depth': 10, 'n_estimators': 104, 'l2_leaf_reg': 3.474077702758221}. Best is trial 4 with value: 0.09354351403035878.\n",
      "[I 2023-10-27 12:22:30,182] Trial 12 finished with value: 0.10582717477366797 and parameters: {'learning_rate': 0.07510816823913868, 'depth': 10, 'n_estimators': 91, 'l2_leaf_reg': 1.014096439751393}. Best is trial 4 with value: 0.09354351403035878.\n",
      "[I 2023-10-27 12:22:32,474] Trial 13 finished with value: 0.11978456400253597 and parameters: {'learning_rate': 0.08265667155519202, 'depth': 8, 'n_estimators': 70, 'l2_leaf_reg': 1.2820846061141606}. Best is trial 4 with value: 0.09354351403035878.\n",
      "[I 2023-10-27 12:22:39,920] Trial 14 finished with value: 0.09689997765357616 and parameters: {'learning_rate': 0.07864937678088318, 'depth': 9, 'n_estimators': 206, 'l2_leaf_reg': 2.533995184539953}. Best is trial 4 with value: 0.09354351403035878.\n",
      "[I 2023-10-27 12:22:45,372] Trial 15 finished with value: 0.09998952141738825 and parameters: {'learning_rate': 0.09822397695459704, 'depth': 8, 'n_estimators': 216, 'l2_leaf_reg': 4.192053852654761}. Best is trial 4 with value: 0.09354351403035878.\n",
      "[I 2023-10-27 12:22:53,945] Trial 16 finished with value: 0.09273316073942023 and parameters: {'learning_rate': 0.0788900697823125, 'depth': 9, 'n_estimators': 240, 'l2_leaf_reg': 2.801077830452561}. Best is trial 16 with value: 0.09273316073942023.\n",
      "[I 2023-10-27 12:23:03,351] Trial 17 finished with value: 0.10051681480736138 and parameters: {'learning_rate': 0.0547017157729144, 'depth': 9, 'n_estimators': 264, 'l2_leaf_reg': 5.065050889833347}. Best is trial 16 with value: 0.09273316073942023.\n",
      "[I 2023-10-27 12:23:08,165] Trial 18 finished with value: 0.10407004690362193 and parameters: {'learning_rate': 0.09921607261008049, 'depth': 7, 'n_estimators': 249, 'l2_leaf_reg': 3.8040812234431387}. Best is trial 16 with value: 0.09273316073942023.\n",
      "[I 2023-10-27 12:23:11,267] Trial 19 finished with value: 0.11709818449159665 and parameters: {'learning_rate': 0.08717379545917428, 'depth': 6, 'n_estimators': 178, 'l2_leaf_reg': 2.578702392045758}. Best is trial 16 with value: 0.09273316073942023.\n",
      "[I 2023-10-27 12:23:21,562] Trial 20 finished with value: 0.09287394583260272 and parameters: {'learning_rate': 0.07485116641611668, 'depth': 9, 'n_estimators': 289, 'l2_leaf_reg': 6.271385618992578}. Best is trial 16 with value: 0.09273316073942023.\n",
      "[I 2023-10-27 12:23:31,833] Trial 21 finished with value: 0.09373105797944768 and parameters: {'learning_rate': 0.0706556358748975, 'depth': 9, 'n_estimators': 292, 'l2_leaf_reg': 6.441192619073672}. Best is trial 16 with value: 0.09273316073942023.\n",
      "[I 2023-10-27 12:23:48,391] Trial 22 finished with value: 0.08685826651251578 and parameters: {'learning_rate': 0.08136277799959782, 'depth': 10, 'n_estimators': 233, 'l2_leaf_reg': 4.6782410580278375}. Best is trial 22 with value: 0.08685826651251578.\n",
      "[I 2023-10-27 12:23:54,069] Trial 23 finished with value: 0.10249928077706355 and parameters: {'learning_rate': 0.07757481478504319, 'depth': 8, 'n_estimators': 230, 'l2_leaf_reg': 4.5514776479259975}. Best is trial 22 with value: 0.08685826651251578.\n",
      "[I 2023-10-27 12:24:03,535] Trial 24 finished with value: 0.0979921726778813 and parameters: {'learning_rate': 0.05597351980329867, 'depth': 9, 'n_estimators': 271, 'l2_leaf_reg': 4.0030453674135}. Best is trial 22 with value: 0.08685826651251578.\n",
      "[I 2023-10-27 12:24:22,581] Trial 25 finished with value: 0.08130055875866493 and parameters: {'learning_rate': 0.0892375114445124, 'depth': 10, 'n_estimators': 275, 'l2_leaf_reg': 5.08374543240102}. Best is trial 25 with value: 0.08130055875866493.\n",
      "[I 2023-10-27 12:24:38,773] Trial 26 finished with value: 0.08550738147172691 and parameters: {'learning_rate': 0.09104584830958438, 'depth': 10, 'n_estimators': 231, 'l2_leaf_reg': 5.05870708492273}. Best is trial 25 with value: 0.08130055875866493.\n",
      "[I 2023-10-27 12:24:54,057] Trial 27 finished with value: 0.08489977587150038 and parameters: {'learning_rate': 0.09313184085498105, 'depth': 10, 'n_estimators': 222, 'l2_leaf_reg': 5.156372412662101}. Best is trial 25 with value: 0.08130055875866493.\n",
      "[I 2023-10-27 12:25:12,167] Trial 28 finished with value: 0.08069015210079558 and parameters: {'learning_rate': 0.09353304901542561, 'depth': 10, 'n_estimators': 268, 'l2_leaf_reg': 5.424800121578394}. Best is trial 28 with value: 0.08069015210079558.\n",
      "[I 2023-10-27 12:25:17,216] Trial 29 finished with value: 0.10419345430655297 and parameters: {'learning_rate': 0.09648724784293476, 'depth': 7, 'n_estimators': 271, 'l2_leaf_reg': 7.098614021319884}. Best is trial 28 with value: 0.08069015210079558.\n",
      "[I 2023-10-27 12:25:17,218] A new study created in memory with name: no-name-b993281f-0aa0-43ae-83dd-0f0f63405f8a\n"
     ]
    },
    {
     "name": "stdout",
     "output_type": "stream",
     "text": [
      "Best hyperparameters: {'learning_rate': 0.09353304901542561, 'depth': 10, 'n_estimators': 268, 'l2_leaf_reg': 5.424800121578394}\n",
      "Best score: 0.08069015210079558\n",
      "CO, мг/м³\n",
      "\n"
     ]
    },
    {
     "name": "stderr",
     "output_type": "stream",
     "text": [
      "[I 2023-10-27 12:25:22,010] Trial 0 finished with value: 0.0027297821155201686 and parameters: {'learning_rate': 0.08859387293378328, 'depth': 7, 'n_estimators': 242, 'l2_leaf_reg': 9.156173428061596}. Best is trial 0 with value: 0.0027297821155201686.\n",
      "[I 2023-10-27 12:25:23,948] Trial 1 finished with value: 0.004056139901903261 and parameters: {'learning_rate': 0.07802285679777217, 'depth': 5, 'n_estimators': 99, 'l2_leaf_reg': 3.9766931905429383}. Best is trial 0 with value: 0.0027297821155201686.\n",
      "[I 2023-10-27 12:25:25,678] Trial 2 finished with value: 0.0051031478570847805 and parameters: {'learning_rate': 0.04747682885506149, 'depth': 4, 'n_estimators': 90, 'l2_leaf_reg': 8.611383832242135}. Best is trial 0 with value: 0.0027297821155201686.\n",
      "[I 2023-10-27 12:25:27,245] Trial 3 finished with value: 0.004809766107957077 and parameters: {'learning_rate': 0.06535282618787445, 'depth': 5, 'n_estimators': 62, 'l2_leaf_reg': 8.813862046873194}. Best is trial 0 with value: 0.0027297821155201686.\n",
      "[I 2023-10-27 12:25:29,286] Trial 4 finished with value: 0.004304213350880384 and parameters: {'learning_rate': 0.04979971821820349, 'depth': 7, 'n_estimators': 71, 'l2_leaf_reg': 4.205528256342826}. Best is trial 0 with value: 0.0027297821155201686.\n",
      "[I 2023-10-27 12:25:32,816] Trial 5 finished with value: 0.0038844217468444555 and parameters: {'learning_rate': 0.04122424195864284, 'depth': 5, 'n_estimators': 235, 'l2_leaf_reg': 8.135097462312473}. Best is trial 0 with value: 0.0027297821155201686.\n",
      "[I 2023-10-27 12:25:35,762] Trial 6 finished with value: 0.004063075595714949 and parameters: {'learning_rate': 0.09359359934791274, 'depth': 3, 'n_estimators': 260, 'l2_leaf_reg': 5.513941690053427}. Best is trial 0 with value: 0.0027297821155201686.\n",
      "[I 2023-10-27 12:25:41,130] Trial 7 finished with value: 0.0026108262329389087 and parameters: {'learning_rate': 0.08434649509768241, 'depth': 8, 'n_estimators': 205, 'l2_leaf_reg': 8.233037375152}. Best is trial 7 with value: 0.0026108262329389087.\n",
      "[I 2023-10-27 12:25:58,959] Trial 8 finished with value: 0.003550445126402746 and parameters: {'learning_rate': 0.0145332707870246, 'depth': 10, 'n_estimators': 258, 'l2_leaf_reg': 8.865022154549669}. Best is trial 7 with value: 0.0026108262329389087.\n",
      "[I 2023-10-27 12:26:01,508] Trial 9 finished with value: 0.005793347163020811 and parameters: {'learning_rate': 0.01672009753232225, 'depth': 3, 'n_estimators': 199, 'l2_leaf_reg': 7.309572024354234}. Best is trial 7 with value: 0.0026108262329389087.\n",
      "[I 2023-10-27 12:26:07,425] Trial 10 finished with value: 0.002425663617523099 and parameters: {'learning_rate': 0.09827068016627905, 'depth': 9, 'n_estimators': 157, 'l2_leaf_reg': 2.024443512749117}. Best is trial 10 with value: 0.002425663617523099.\n",
      "[I 2023-10-27 12:26:13,599] Trial 11 finished with value: 0.0023733666851099068 and parameters: {'learning_rate': 0.09986922137937804, 'depth': 9, 'n_estimators': 165, 'l2_leaf_reg': 1.0539441657318034}. Best is trial 11 with value: 0.0023733666851099068.\n",
      "[I 2023-10-27 12:26:23,978] Trial 12 finished with value: 0.0022900076082379944 and parameters: {'learning_rate': 0.09903511106998365, 'depth': 10, 'n_estimators': 145, 'l2_leaf_reg': 1.3284675597815114}. Best is trial 12 with value: 0.0022900076082379944.\n",
      "[I 2023-10-27 12:26:34,105] Trial 13 finished with value: 0.0022991024784762967 and parameters: {'learning_rate': 0.09752547429386788, 'depth': 10, 'n_estimators': 141, 'l2_leaf_reg': 1.0495089401702655}. Best is trial 12 with value: 0.0022900076082379944.\n",
      "[I 2023-10-27 12:26:43,549] Trial 14 finished with value: 0.0025753223190944138 and parameters: {'learning_rate': 0.07336769912856017, 'depth': 10, 'n_estimators': 129, 'l2_leaf_reg': 1.1681412408683043}. Best is trial 12 with value: 0.0022900076082379944.\n",
      "[I 2023-10-27 12:26:48,442] Trial 15 finished with value: 0.002826683216188175 and parameters: {'learning_rate': 0.07169264127511246, 'depth': 9, 'n_estimators': 125, 'l2_leaf_reg': 2.526048088608441}. Best is trial 12 with value: 0.0022900076082379944.\n",
      "[I 2023-10-27 12:26:50,341] Trial 16 finished with value: 0.004765768562143403 and parameters: {'learning_rate': 0.08523444929067076, 'depth': 10, 'n_estimators': 16, 'l2_leaf_reg': 2.5564129205946236}. Best is trial 12 with value: 0.0022900076082379944.\n",
      "[I 2023-10-27 12:26:55,260] Trial 17 finished with value: 0.002825623268767395 and parameters: {'learning_rate': 0.06210791565564134, 'depth': 8, 'n_estimators': 189, 'l2_leaf_reg': 1.0128239076158319}. Best is trial 12 with value: 0.0022900076082379944.\n",
      "[I 2023-10-27 12:27:02,495] Trial 18 finished with value: 0.0022619839132384015 and parameters: {'learning_rate': 0.09952426323514305, 'depth': 8, 'n_estimators': 292, 'l2_leaf_reg': 3.5212898344171517}. Best is trial 18 with value: 0.0022619839132384015.\n",
      "[I 2023-10-27 12:27:09,706] Trial 19 finished with value: 0.002353966722221428 and parameters: {'learning_rate': 0.08420134526178356, 'depth': 8, 'n_estimators': 296, 'l2_leaf_reg': 3.4562106602652953}. Best is trial 18 with value: 0.0022619839132384015.\n",
      "[I 2023-10-27 12:27:14,275] Trial 20 finished with value: 0.0028223448644941725 and parameters: {'learning_rate': 0.08986697235100113, 'depth': 6, 'n_estimators': 288, 'l2_leaf_reg': 5.345544824171936}. Best is trial 18 with value: 0.0022619839132384015.\n",
      "[I 2023-10-27 12:27:19,359] Trial 21 finished with value: 0.0025641646385386263 and parameters: {'learning_rate': 0.09879624297249774, 'depth': 9, 'n_estimators': 131, 'l2_leaf_reg': 2.168732869272211}. Best is trial 18 with value: 0.0022619839132384015.\n",
      "[I 2023-10-27 12:27:31,461] Trial 22 finished with value: 0.002145943024673861 and parameters: {'learning_rate': 0.09967713536345037, 'depth': 10, 'n_estimators': 173, 'l2_leaf_reg': 1.703104253401165}. Best is trial 22 with value: 0.002145943024673861.\n",
      "[I 2023-10-27 12:27:36,102] Trial 23 finished with value: 0.0026445641615753476 and parameters: {'learning_rate': 0.09042463341797792, 'depth': 8, 'n_estimators': 177, 'l2_leaf_reg': 3.032245002793245}. Best is trial 22 with value: 0.002145943024673861.\n",
      "[I 2023-10-27 12:27:43,674] Trial 24 finished with value: 0.0023718948386460283 and parameters: {'learning_rate': 0.08065714045746583, 'depth': 9, 'n_estimators': 208, 'l2_leaf_reg': 1.8066035086646322}. Best is trial 22 with value: 0.002145943024673861.\n",
      "[I 2023-10-27 12:27:59,145] Trial 25 finished with value: 0.0020123957063985435 and parameters: {'learning_rate': 0.09237777041884405, 'depth': 10, 'n_estimators': 225, 'l2_leaf_reg': 1.7892158913147767}. Best is trial 25 with value: 0.0020123957063985435.\n",
      "[I 2023-10-27 12:28:03,756] Trial 26 finished with value: 0.002704108125253303 and parameters: {'learning_rate': 0.09038175609923625, 'depth': 7, 'n_estimators': 229, 'l2_leaf_reg': 2.96474182949912}. Best is trial 25 with value: 0.0020123957063985435.\n",
      "[I 2023-10-27 12:28:07,985] Trial 27 finished with value: 0.002935844718764843 and parameters: {'learning_rate': 0.07940627889528629, 'depth': 6, 'n_estimators': 259, 'l2_leaf_reg': 1.870885834469274}. Best is trial 25 with value: 0.0020123957063985435.\n",
      "[I 2023-10-27 12:28:18,148] Trial 28 finished with value: 0.002092722247660145 and parameters: {'learning_rate': 0.09056395702657091, 'depth': 9, 'n_estimators': 292, 'l2_leaf_reg': 3.2517900378295814}. Best is trial 25 with value: 0.0020123957063985435.\n",
      "[I 2023-10-27 12:28:33,469] Trial 29 finished with value: 0.0020453943977256465 and parameters: {'learning_rate': 0.09144214857294797, 'depth': 10, 'n_estimators': 218, 'l2_leaf_reg': 1.6517436206704827}. Best is trial 25 with value: 0.0020123957063985435.\n",
      "[I 2023-10-27 12:28:33,471] A new study created in memory with name: no-name-0e7a1ddd-4a42-4dcd-a6da-3bd832195087\n"
     ]
    },
    {
     "name": "stdout",
     "output_type": "stream",
     "text": [
      "Best hyperparameters: {'learning_rate': 0.09237777041884405, 'depth': 10, 'n_estimators': 225, 'l2_leaf_reg': 1.7892158913147767}\n",
      "Best score: 0.0020123957063985435\n",
      "NO, мг/м³\n",
      "\n"
     ]
    },
    {
     "name": "stderr",
     "output_type": "stream",
     "text": [
      "[I 2023-10-27 12:28:39,929] Trial 0 finished with value: 0.010674657240535759 and parameters: {'learning_rate': 0.01581745634250587, 'depth': 10, 'n_estimators': 84, 'l2_leaf_reg': 9.380892270595355}. Best is trial 0 with value: 0.010674657240535759.\n",
      "[I 2023-10-27 12:28:45,267] Trial 1 finished with value: 0.007824605367061364 and parameters: {'learning_rate': 0.03368854294201423, 'depth': 7, 'n_estimators': 278, 'l2_leaf_reg': 8.095683249558626}. Best is trial 1 with value: 0.007824605367061364.\n",
      "[I 2023-10-27 12:28:49,085] Trial 2 finished with value: 0.011747236376597837 and parameters: {'learning_rate': 0.006535597781673118, 'depth': 6, 'n_estimators': 222, 'l2_leaf_reg': 8.3169123254131}. Best is trial 1 with value: 0.007824605367061364.\n",
      "[I 2023-10-27 12:28:52,124] Trial 3 finished with value: 0.00853833471684451 and parameters: {'learning_rate': 0.044909839993861486, 'depth': 7, 'n_estimators': 135, 'l2_leaf_reg': 8.99626259339622}. Best is trial 1 with value: 0.007824605367061364.\n",
      "[I 2023-10-27 12:28:53,635] Trial 4 finished with value: 0.014364747848750243 and parameters: {'learning_rate': 0.006738049185813495, 'depth': 4, 'n_estimators': 74, 'l2_leaf_reg': 2.9973240371598315}. Best is trial 1 with value: 0.007824605367061364.\n",
      "[I 2023-10-27 12:29:14,048] Trial 5 finished with value: 0.00523708979580241 and parameters: {'learning_rate': 0.06454075109854926, 'depth': 10, 'n_estimators': 289, 'l2_leaf_reg': 2.366265747344806}. Best is trial 5 with value: 0.00523708979580241.\n",
      "[I 2023-10-27 12:29:20,229] Trial 6 finished with value: 0.006508255665338747 and parameters: {'learning_rate': 0.06966276482206185, 'depth': 9, 'n_estimators': 168, 'l2_leaf_reg': 2.098596066337627}. Best is trial 5 with value: 0.00523708979580241.\n",
      "[I 2023-10-27 12:29:22,659] Trial 7 finished with value: 0.013648933281858294 and parameters: {'learning_rate': 0.004421397887300922, 'depth': 4, 'n_estimators': 172, 'l2_leaf_reg': 5.2847121556343994}. Best is trial 5 with value: 0.00523708979580241.\n",
      "[I 2023-10-27 12:29:29,409] Trial 8 finished with value: 0.007895674920756105 and parameters: {'learning_rate': 0.029504197882597945, 'depth': 9, 'n_estimators': 185, 'l2_leaf_reg': 5.537428805210562}. Best is trial 5 with value: 0.00523708979580241.\n",
      "[I 2023-10-27 12:29:34,676] Trial 9 finished with value: 0.009327358570818508 and parameters: {'learning_rate': 0.0160893206600183, 'depth': 6, 'n_estimators': 298, 'l2_leaf_reg': 7.658820463563972}. Best is trial 5 with value: 0.00523708979580241.\n",
      "[I 2023-10-27 12:29:43,076] Trial 10 finished with value: 0.005430440176718552 and parameters: {'learning_rate': 0.09252899450974808, 'depth': 9, 'n_estimators': 235, 'l2_leaf_reg': 1.5950734136008164}. Best is trial 5 with value: 0.00523708979580241.\n",
      "[I 2023-10-27 12:30:00,122] Trial 11 finished with value: 0.004681968510231723 and parameters: {'learning_rate': 0.09899316621991275, 'depth': 10, 'n_estimators': 245, 'l2_leaf_reg': 1.2450475694726038}. Best is trial 11 with value: 0.004681968510231723.\n",
      "[I 2023-10-27 12:30:17,797] Trial 12 finished with value: 0.004642527376963059 and parameters: {'learning_rate': 0.09924059086275548, 'depth': 10, 'n_estimators': 255, 'l2_leaf_reg': 1.023897651393103}. Best is trial 12 with value: 0.004642527376963059.\n",
      "[I 2023-10-27 12:30:23,871] Trial 13 finished with value: 0.005796824560041876 and parameters: {'learning_rate': 0.09842861230895367, 'depth': 8, 'n_estimators': 241, 'l2_leaf_reg': 1.0964387201026653}. Best is trial 12 with value: 0.004642527376963059.\n",
      "[I 2023-10-27 12:30:39,054] Trial 14 finished with value: 0.00527175716008523 and parameters: {'learning_rate': 0.08450177517414714, 'depth': 10, 'n_estimators': 219, 'l2_leaf_reg': 3.2633385169215487}. Best is trial 12 with value: 0.004642527376963059.\n",
      "[I 2023-10-27 12:30:40,339] Trial 15 finished with value: 0.010847420678017613 and parameters: {'learning_rate': 0.0811383540615005, 'depth': 8, 'n_estimators': 19, 'l2_leaf_reg': 1.361381522897693}. Best is trial 12 with value: 0.004642527376963059.\n",
      "[I 2023-10-27 12:30:44,041] Trial 16 finished with value: 0.007364589990280089 and parameters: {'learning_rate': 0.09929779820663918, 'depth': 5, 'n_estimators': 264, 'l2_leaf_reg': 3.98780586393622}. Best is trial 12 with value: 0.004642527376963059.\n",
      "[I 2023-10-27 12:30:46,018] Trial 17 finished with value: 0.010083192229167818 and parameters: {'learning_rate': 0.08395191672311411, 'depth': 3, 'n_estimators': 124, 'l2_leaf_reg': 1.0831079890254438}. Best is trial 12 with value: 0.004642527376963059.\n",
      "[I 2023-10-27 12:30:51,185] Trial 18 finished with value: 0.006748795241052142 and parameters: {'learning_rate': 0.0693378380491001, 'depth': 8, 'n_estimators': 200, 'l2_leaf_reg': 2.4135342766810846}. Best is trial 12 with value: 0.004642527376963059.\n",
      "[I 2023-10-27 12:31:08,851] Trial 19 finished with value: 0.004903489581453328 and parameters: {'learning_rate': 0.0907759648687535, 'depth': 10, 'n_estimators': 257, 'l2_leaf_reg': 3.6115825759686535}. Best is trial 12 with value: 0.004642527376963059.\n",
      "[I 2023-10-27 12:31:16,885] Trial 20 finished with value: 0.005548435507831227 and parameters: {'learning_rate': 0.09952561891119434, 'depth': 9, 'n_estimators': 203, 'l2_leaf_reg': 1.922687744537818}. Best is trial 12 with value: 0.004642527376963059.\n",
      "[I 2023-10-27 12:31:35,603] Trial 21 finished with value: 0.004759224483076014 and parameters: {'learning_rate': 0.0898821776365948, 'depth': 10, 'n_estimators': 258, 'l2_leaf_reg': 1.0521322787621863}. Best is trial 12 with value: 0.004642527376963059.\n",
      "[I 2023-10-27 12:31:52,998] Trial 22 finished with value: 0.005064259156036689 and parameters: {'learning_rate': 0.07791893293501279, 'depth': 10, 'n_estimators': 254, 'l2_leaf_reg': 1.0692139756198191}. Best is trial 12 with value: 0.004642527376963059.\n",
      "[I 2023-10-27 12:32:02,428] Trial 23 finished with value: 0.005294458825338306 and parameters: {'learning_rate': 0.09060013868911251, 'depth': 9, 'n_estimators': 269, 'l2_leaf_reg': 2.5219101479517145}. Best is trial 12 with value: 0.004642527376963059.\n",
      "[I 2023-10-27 12:32:08,066] Trial 24 finished with value: 0.006073117767515153 and parameters: {'learning_rate': 0.09030391021073955, 'depth': 8, 'n_estimators': 223, 'l2_leaf_reg': 1.8292499163377571}. Best is trial 12 with value: 0.004642527376963059.\n",
      "[I 2023-10-27 12:32:28,291] Trial 25 finished with value: 0.004821116540996056 and parameters: {'learning_rate': 0.07583298336606852, 'depth': 10, 'n_estimators': 296, 'l2_leaf_reg': 1.0062283420500397}. Best is trial 12 with value: 0.004642527376963059.\n",
      "[I 2023-10-27 12:32:36,995] Trial 26 finished with value: 0.006066943888249995 and parameters: {'learning_rate': 0.062328721250955156, 'depth': 9, 'n_estimators': 247, 'l2_leaf_reg': 2.7797205506046114}. Best is trial 12 with value: 0.004642527376963059.\n",
      "[I 2023-10-27 12:32:47,215] Trial 27 finished with value: 0.005889817083381789 and parameters: {'learning_rate': 0.08705063169139894, 'depth': 10, 'n_estimators': 144, 'l2_leaf_reg': 1.8543672429743951}. Best is trial 12 with value: 0.004642527376963059.\n",
      "[I 2023-10-27 12:32:51,349] Trial 28 finished with value: 0.00667684938046047 and parameters: {'learning_rate': 0.09489608934835557, 'depth': 7, 'n_estimators': 204, 'l2_leaf_reg': 1.6909844491419654}. Best is trial 12 with value: 0.004642527376963059.\n",
      "[I 2023-10-27 12:32:58,717] Trial 29 finished with value: 0.0066535059596798465 and parameters: {'learning_rate': 0.0855580617439739, 'depth': 10, 'n_estimators': 101, 'l2_leaf_reg': 3.9648508674121206}. Best is trial 12 with value: 0.004642527376963059.\n",
      "[I 2023-10-27 12:32:58,718] A new study created in memory with name: no-name-290caa4b-ca32-4bc2-ba89-0a8c5ee34579\n"
     ]
    },
    {
     "name": "stdout",
     "output_type": "stream",
     "text": [
      "Best hyperparameters: {'learning_rate': 0.09924059086275548, 'depth': 10, 'n_estimators': 255, 'l2_leaf_reg': 1.023897651393103}\n",
      "Best score: 0.004642527376963059\n",
      "NO2, мг/м³\n",
      "\n"
     ]
    },
    {
     "name": "stderr",
     "output_type": "stream",
     "text": [
      "[I 2023-10-27 12:33:03,225] Trial 0 finished with value: 0.0008344316584376965 and parameters: {'learning_rate': 0.07386387905942547, 'depth': 9, 'n_estimators': 117, 'l2_leaf_reg': 6.7282114757780915}. Best is trial 0 with value: 0.0008344316584376965.\n",
      "[I 2023-10-27 12:33:06,286] Trial 1 finished with value: 0.0010998679147228786 and parameters: {'learning_rate': 0.04576787762707315, 'depth': 4, 'n_estimators': 229, 'l2_leaf_reg': 1.0371989251265226}. Best is trial 0 with value: 0.0008344316584376965.\n",
      "[I 2023-10-27 12:33:09,158] Trial 2 finished with value: 0.004136602360878625 and parameters: {'learning_rate': 0.002411916733962227, 'depth': 6, 'n_estimators': 152, 'l2_leaf_reg': 9.719236117581627}. Best is trial 0 with value: 0.0008344316584376965.\n",
      "[I 2023-10-27 12:33:10,210] Trial 3 finished with value: 0.00431846311816185 and parameters: {'learning_rate': 0.014796098909125914, 'depth': 4, 'n_estimators': 24, 'l2_leaf_reg': 6.140071378140955}. Best is trial 0 with value: 0.0008344316584376965.\n",
      "[I 2023-10-27 12:33:16,352] Trial 4 finished with value: 0.0007111256388863002 and parameters: {'learning_rate': 0.09981438688527443, 'depth': 9, 'n_estimators': 169, 'l2_leaf_reg': 4.138298040094494}. Best is trial 4 with value: 0.0007111256388863002.\n",
      "[I 2023-10-27 12:33:21,749] Trial 5 finished with value: 0.0018206858867405294 and parameters: {'learning_rate': 0.0066721457885425845, 'depth': 7, 'n_estimators': 272, 'l2_leaf_reg': 4.297487620201331}. Best is trial 4 with value: 0.0007111256388863002.\n",
      "[I 2023-10-27 12:33:22,838] Trial 6 finished with value: 0.002078620435281942 and parameters: {'learning_rate': 0.07524273557600462, 'depth': 5, 'n_estimators': 23, 'l2_leaf_reg': 4.417463726586772}. Best is trial 4 with value: 0.0007111256388863002.\n",
      "[I 2023-10-27 12:33:24,139] Trial 7 finished with value: 0.001490320733636626 and parameters: {'learning_rate': 0.08341765682938507, 'depth': 4, 'n_estimators': 49, 'l2_leaf_reg': 7.817602999607935}. Best is trial 4 with value: 0.0007111256388863002.\n",
      "[I 2023-10-27 12:33:29,261] Trial 8 finished with value: 0.0008469605365071486 and parameters: {'learning_rate': 0.05811393300390151, 'depth': 7, 'n_estimators': 268, 'l2_leaf_reg': 8.298660174876442}. Best is trial 4 with value: 0.0007111256388863002.\n",
      "[I 2023-10-27 12:33:32,722] Trial 9 finished with value: 0.0009628670265976045 and parameters: {'learning_rate': 0.09360308188460166, 'depth': 4, 'n_estimators': 286, 'l2_leaf_reg': 1.7636021979886527}. Best is trial 4 with value: 0.0007111256388863002.\n",
      "[I 2023-10-27 12:33:46,496] Trial 10 finished with value: 0.0006299800777867407 and parameters: {'learning_rate': 0.09827080357823609, 'depth': 10, 'n_estimators': 201, 'l2_leaf_reg': 3.1107983609911347}. Best is trial 10 with value: 0.0006299800777867407.\n",
      "[I 2023-10-27 12:34:00,161] Trial 11 finished with value: 0.0006348323879084478 and parameters: {'learning_rate': 0.09312939479709853, 'depth': 10, 'n_estimators': 200, 'l2_leaf_reg': 2.991719639483508}. Best is trial 10 with value: 0.0006299800777867407.\n",
      "[I 2023-10-27 12:34:14,197] Trial 12 finished with value: 0.0006188004766029984 and parameters: {'learning_rate': 0.0974339009302918, 'depth': 10, 'n_estimators': 205, 'l2_leaf_reg': 2.643338739468265}. Best is trial 12 with value: 0.0006188004766029984.\n",
      "[I 2023-10-27 12:34:29,568] Trial 13 finished with value: 0.0006278823813511763 and parameters: {'learning_rate': 0.08263905910239658, 'depth': 10, 'n_estimators': 226, 'l2_leaf_reg': 2.652750312658387}. Best is trial 12 with value: 0.0006188004766029984.\n",
      "[I 2023-10-27 12:34:35,342] Trial 14 finished with value: 0.0007468605855880725 and parameters: {'learning_rate': 0.08043715729141457, 'depth': 8, 'n_estimators': 229, 'l2_leaf_reg': 2.0118952495005837}. Best is trial 12 with value: 0.0006188004766029984.\n",
      "[I 2023-10-27 12:34:39,587] Trial 15 finished with value: 0.0008801843681864543 and parameters: {'learning_rate': 0.06258425797067466, 'depth': 9, 'n_estimators': 107, 'l2_leaf_reg': 5.131684318648402}. Best is trial 12 with value: 0.0006188004766029984.\n",
      "[I 2023-10-27 12:34:55,467] Trial 16 finished with value: 0.0006171450738012477 and parameters: {'learning_rate': 0.08731531225101591, 'depth': 10, 'n_estimators': 234, 'l2_leaf_reg': 3.0318886991635305}. Best is trial 16 with value: 0.0006171450738012477.\n",
      "[I 2023-10-27 12:34:59,651] Trial 17 finished with value: 0.0008429897167178447 and parameters: {'learning_rate': 0.06889627782952515, 'depth': 8, 'n_estimators': 155, 'l2_leaf_reg': 3.4807440069213964}. Best is trial 16 with value: 0.0006171450738012477.\n",
      "[I 2023-10-27 12:35:05,841] Trial 18 finished with value: 0.000713268544610512 and parameters: {'learning_rate': 0.08683305489953276, 'depth': 8, 'n_estimators': 252, 'l2_leaf_reg': 1.0671748435058614}. Best is trial 16 with value: 0.0006171450738012477.\n",
      "[I 2023-10-27 12:35:09,182] Trial 19 finished with value: 0.0008799415751992574 and parameters: {'learning_rate': 0.08772424130618732, 'depth': 6, 'n_estimators': 189, 'l2_leaf_reg': 2.240849519382314}. Best is trial 16 with value: 0.0006171450738012477.\n",
      "[I 2023-10-27 12:35:19,416] Trial 20 finished with value: 0.0006049949825693226 and parameters: {'learning_rate': 0.09987364336975965, 'depth': 9, 'n_estimators': 298, 'l2_leaf_reg': 3.233415613507497}. Best is trial 20 with value: 0.0006049949825693226.\n",
      "[I 2023-10-27 12:35:39,013] Trial 21 finished with value: 0.0005648228713086037 and parameters: {'learning_rate': 0.09627382203121629, 'depth': 10, 'n_estimators': 291, 'l2_leaf_reg': 3.618241013914762}. Best is trial 21 with value: 0.0005648228713086037.\n",
      "[I 2023-10-27 12:35:49,129] Trial 22 finished with value: 0.0006376134076011254 and parameters: {'learning_rate': 0.08954363342027032, 'depth': 9, 'n_estimators': 294, 'l2_leaf_reg': 3.959352665606222}. Best is trial 21 with value: 0.0005648228713086037.\n",
      "[I 2023-10-27 12:36:09,164] Trial 23 finished with value: 0.0005551241038935759 and parameters: {'learning_rate': 0.09775410083375517, 'depth': 10, 'n_estimators': 298, 'l2_leaf_reg': 3.575957776379207}. Best is trial 23 with value: 0.0005551241038935759.\n",
      "[I 2023-10-27 12:36:19,329] Trial 24 finished with value: 0.0006321299071336504 and parameters: {'learning_rate': 0.0933495611187722, 'depth': 9, 'n_estimators': 296, 'l2_leaf_reg': 5.001788373895007}. Best is trial 23 with value: 0.0005551241038935759.\n",
      "[I 2023-10-27 12:36:25,848] Trial 25 finished with value: 0.0007007643797337614 and parameters: {'learning_rate': 0.09861218165308075, 'depth': 8, 'n_estimators': 258, 'l2_leaf_reg': 3.456318988346733}. Best is trial 23 with value: 0.0005551241038935759.\n",
      "[I 2023-10-27 12:36:44,321] Trial 26 finished with value: 0.0006084793795999769 and parameters: {'learning_rate': 0.07815139631577185, 'depth': 10, 'n_estimators': 275, 'l2_leaf_reg': 3.7512093875249954}. Best is trial 23 with value: 0.0005551241038935759.\n",
      "[I 2023-10-27 12:36:54,594] Trial 27 finished with value: 0.000644139335422769 and parameters: {'learning_rate': 0.08544425443801398, 'depth': 9, 'n_estimators': 299, 'l2_leaf_reg': 5.137801862882598}. Best is trial 23 with value: 0.0005551241038935759.\n",
      "[I 2023-10-27 12:36:57,416] Trial 28 finished with value: 0.0010640794414567846 and parameters: {'learning_rate': 0.09901084547576838, 'depth': 3, 'n_estimators': 245, 'l2_leaf_reg': 4.7383763841002935}. Best is trial 23 with value: 0.0005551241038935759.\n",
      "[I 2023-10-27 12:37:02,322] Trial 29 finished with value: 0.0008262452557077872 and parameters: {'learning_rate': 0.07253403758963688, 'depth': 9, 'n_estimators': 128, 'l2_leaf_reg': 6.074199057167917}. Best is trial 23 with value: 0.0005551241038935759.\n",
      "[I 2023-10-27 12:37:02,324] A new study created in memory with name: no-name-14ee96f7-dce3-4c3c-869d-6d55db54a1d4\n"
     ]
    },
    {
     "name": "stdout",
     "output_type": "stream",
     "text": [
      "Best hyperparameters: {'learning_rate': 0.09775410083375517, 'depth': 10, 'n_estimators': 298, 'l2_leaf_reg': 3.575957776379207}\n",
      "Best score: 0.0005551241038935759\n",
      "NH3, мг/м³\n",
      "\n"
     ]
    },
    {
     "name": "stderr",
     "output_type": "stream",
     "text": [
      "[I 2023-10-27 12:37:08,963] Trial 0 finished with value: 0.009760378696830198 and parameters: {'learning_rate': 0.016705667663678675, 'depth': 8, 'n_estimators': 265, 'l2_leaf_reg': 2.7948031041574444}. Best is trial 0 with value: 0.009760378696830198.\n",
      "[I 2023-10-27 12:37:10,600] Trial 1 finished with value: 0.011007786569171313 and parameters: {'learning_rate': 0.061817206486237, 'depth': 9, 'n_estimators': 25, 'l2_leaf_reg': 8.017223590354437}. Best is trial 0 with value: 0.009760378696830198.\n",
      "[I 2023-10-27 12:37:16,651] Trial 2 finished with value: 0.008819811376060362 and parameters: {'learning_rate': 0.0525734231437532, 'depth': 10, 'n_estimators': 79, 'l2_leaf_reg': 1.569768727585246}. Best is trial 2 with value: 0.008819811376060362.\n",
      "[I 2023-10-27 12:37:20,700] Trial 3 finished with value: 0.012344868998389472 and parameters: {'learning_rate': 0.016859954638949293, 'depth': 10, 'n_estimators': 49, 'l2_leaf_reg': 2.741175664984932}. Best is trial 2 with value: 0.008819811376060362.\n",
      "[I 2023-10-27 12:37:23,531] Trial 4 finished with value: 0.011340629891208598 and parameters: {'learning_rate': 0.049051502052833304, 'depth': 4, 'n_estimators': 218, 'l2_leaf_reg': 3.0564498716610045}. Best is trial 2 with value: 0.008819811376060362.\n",
      "[I 2023-10-27 12:37:34,198] Trial 5 finished with value: 0.007069854266330914 and parameters: {'learning_rate': 0.07997704252122263, 'depth': 10, 'n_estimators': 150, 'l2_leaf_reg': 2.9087782024310114}. Best is trial 5 with value: 0.007069854266330914.\n",
      "[I 2023-10-27 12:37:37,708] Trial 6 finished with value: 0.009166438285682654 and parameters: {'learning_rate': 0.08295447491989788, 'depth': 6, 'n_estimators': 206, 'l2_leaf_reg': 9.510452337420936}. Best is trial 5 with value: 0.007069854266330914.\n",
      "[I 2023-10-27 12:37:42,960] Trial 7 finished with value: 0.009254484261332265 and parameters: {'learning_rate': 0.03542437437675418, 'depth': 7, 'n_estimators': 271, 'l2_leaf_reg': 5.739243080233567}. Best is trial 5 with value: 0.007069854266330914.\n",
      "[I 2023-10-27 12:37:44,320] Trial 8 finished with value: 0.01135230407132765 and parameters: {'learning_rate': 0.07978083407628588, 'depth': 9, 'n_estimators': 16, 'l2_leaf_reg': 6.392763095698095}. Best is trial 5 with value: 0.007069854266330914.\n",
      "[I 2023-10-27 12:37:46,636] Trial 9 finished with value: 0.012703876224571206 and parameters: {'learning_rate': 0.018963657816157622, 'depth': 3, 'n_estimators': 180, 'l2_leaf_reg': 3.282571675665719}. Best is trial 5 with value: 0.007069854266330914.\n",
      "[I 2023-10-27 12:37:48,792] Trial 10 finished with value: 0.010294119329688618 and parameters: {'learning_rate': 0.09948791578684607, 'depth': 5, 'n_estimators': 121, 'l2_leaf_reg': 4.496335922733714}. Best is trial 5 with value: 0.007069854266330914.\n",
      "[I 2023-10-27 12:37:57,554] Trial 11 finished with value: 0.007870171801415611 and parameters: {'learning_rate': 0.061235846332775526, 'depth': 10, 'n_estimators': 120, 'l2_leaf_reg': 1.0935175256472853}. Best is trial 5 with value: 0.007069854266330914.\n",
      "[I 2023-10-27 12:38:01,099] Trial 12 finished with value: 0.008684249459300488 and parameters: {'learning_rate': 0.06984262003097066, 'depth': 8, 'n_estimators': 124, 'l2_leaf_reg': 1.107963902274049}. Best is trial 5 with value: 0.007069854266330914.\n",
      "[I 2023-10-27 12:38:11,220] Trial 13 finished with value: 0.007232783831324896 and parameters: {'learning_rate': 0.07277799024323561, 'depth': 10, 'n_estimators': 140, 'l2_leaf_reg': 1.370955198248252}. Best is trial 5 with value: 0.007069854266330914.\n",
      "[I 2023-10-27 12:38:15,334] Trial 14 finished with value: 0.008127703320756354 and parameters: {'learning_rate': 0.0897244765517855, 'depth': 8, 'n_estimators': 154, 'l2_leaf_reg': 3.989498383215384}. Best is trial 5 with value: 0.007069854266330914.\n",
      "[I 2023-10-27 12:38:18,494] Trial 15 finished with value: 0.009007449809741136 and parameters: {'learning_rate': 0.07380907073964973, 'depth': 9, 'n_estimators': 73, 'l2_leaf_reg': 2.0991280057489945}. Best is trial 5 with value: 0.007069854266330914.\n",
      "[I 2023-10-27 12:38:22,221] Trial 16 finished with value: 0.008516420939095616 and parameters: {'learning_rate': 0.09207943173461934, 'depth': 7, 'n_estimators': 169, 'l2_leaf_reg': 4.582134670587245}. Best is trial 5 with value: 0.007069854266330914.\n",
      "[I 2023-10-27 12:38:37,789] Trial 17 finished with value: 0.0061896785108175745 and parameters: {'learning_rate': 0.07760086102038732, 'depth': 10, 'n_estimators': 225, 'l2_leaf_reg': 2.143627734098473}. Best is trial 17 with value: 0.0061896785108175745.\n",
      "[I 2023-10-27 12:38:41,740] Trial 18 finished with value: 0.008731663759112353 and parameters: {'learning_rate': 0.08475756910759742, 'depth': 6, 'n_estimators': 238, 'l2_leaf_reg': 2.096411127216334}. Best is trial 17 with value: 0.0061896785108175745.\n",
      "[I 2023-10-27 12:38:52,013] Trial 19 finished with value: 0.006002428178301291 and parameters: {'learning_rate': 0.09980566144670584, 'depth': 9, 'n_estimators': 299, 'l2_leaf_reg': 3.919585393176529}. Best is trial 19 with value: 0.006002428178301291.\n",
      "[I 2023-10-27 12:39:02,297] Trial 20 finished with value: 0.006010028300842769 and parameters: {'learning_rate': 0.09889218194580346, 'depth': 9, 'n_estimators': 300, 'l2_leaf_reg': 3.9319182578256022}. Best is trial 19 with value: 0.006002428178301291.\n",
      "[I 2023-10-27 12:39:12,600] Trial 21 finished with value: 0.005992643897162339 and parameters: {'learning_rate': 0.09983066685185675, 'depth': 9, 'n_estimators': 298, 'l2_leaf_reg': 3.8998860942858236}. Best is trial 21 with value: 0.005992643897162339.\n",
      "[I 2023-10-27 12:39:22,844] Trial 22 finished with value: 0.006083432841973602 and parameters: {'learning_rate': 0.09522554287801516, 'depth': 9, 'n_estimators': 299, 'l2_leaf_reg': 3.9777625293072814}. Best is trial 21 with value: 0.005992643897162339.\n",
      "[I 2023-10-27 12:39:30,114] Trial 23 finished with value: 0.0066988306924231755 and parameters: {'learning_rate': 0.09982238506315637, 'depth': 8, 'n_estimators': 300, 'l2_leaf_reg': 5.226134225360351}. Best is trial 21 with value: 0.005992643897162339.\n",
      "[I 2023-10-27 12:39:35,295] Trial 24 finished with value: 0.007839743896316052 and parameters: {'learning_rate': 0.09035800853169881, 'depth': 7, 'n_estimators': 265, 'l2_leaf_reg': 3.6812268145567546}. Best is trial 21 with value: 0.005992643897162339.\n",
      "[I 2023-10-27 12:39:44,976] Trial 25 finished with value: 0.006119311121719868 and parameters: {'learning_rate': 0.09984742116937796, 'depth': 9, 'n_estimators': 279, 'l2_leaf_reg': 4.76875050896608}. Best is trial 21 with value: 0.005992643897162339.\n",
      "[I 2023-10-27 12:39:50,989] Trial 26 finished with value: 0.007375003696520324 and parameters: {'learning_rate': 0.08627339671892344, 'depth': 8, 'n_estimators': 241, 'l2_leaf_reg': 3.664321624405354}. Best is trial 21 with value: 0.005992643897162339.\n",
      "[I 2023-10-27 12:40:00,793] Trial 27 finished with value: 0.006430760487816636 and parameters: {'learning_rate': 0.09086561781514993, 'depth': 9, 'n_estimators': 281, 'l2_leaf_reg': 5.753934478807255}. Best is trial 21 with value: 0.005992643897162339.\n",
      "[I 2023-10-27 12:40:05,682] Trial 28 finished with value: 0.007827426429726723 and parameters: {'learning_rate': 0.09379474195814551, 'depth': 7, 'n_estimators': 249, 'l2_leaf_reg': 4.282452783290313}. Best is trial 21 with value: 0.005992643897162339.\n",
      "[I 2023-10-27 12:40:10,878] Trial 29 finished with value: 0.007827487757551361 and parameters: {'learning_rate': 0.08426018902120216, 'depth': 8, 'n_estimators': 195, 'l2_leaf_reg': 5.304386512631931}. Best is trial 21 with value: 0.005992643897162339.\n",
      "[I 2023-10-27 12:40:10,881] A new study created in memory with name: no-name-f10863a2-fe47-4dcf-9b77-50d1b9a02925\n"
     ]
    },
    {
     "name": "stdout",
     "output_type": "stream",
     "text": [
      "Best hyperparameters: {'learning_rate': 0.09983066685185675, 'depth': 9, 'n_estimators': 298, 'l2_leaf_reg': 3.8998860942858236}\n",
      "Best score: 0.005992643897162339\n",
      "SO2, мг/м³\n",
      "\n"
     ]
    },
    {
     "name": "stderr",
     "output_type": "stream",
     "text": [
      "[I 2023-10-27 12:40:23,552] Trial 0 finished with value: 0.0007278174420118116 and parameters: {'learning_rate': 0.018689838291331792, 'depth': 10, 'n_estimators': 162, 'l2_leaf_reg': 8.790079953287588}. Best is trial 0 with value: 0.0007278174420118116.\n",
      "[I 2023-10-27 12:40:28,099] Trial 1 finished with value: 0.0006318969203167951 and parameters: {'learning_rate': 0.07604444607524286, 'depth': 9, 'n_estimators': 108, 'l2_leaf_reg': 8.044261877893739}. Best is trial 1 with value: 0.0006318969203167951.\n",
      "[I 2023-10-27 12:40:48,823] Trial 2 finished with value: 0.0005005431648319136 and parameters: {'learning_rate': 0.058015085013842733, 'depth': 10, 'n_estimators': 281, 'l2_leaf_reg': 3.712242850290659}. Best is trial 2 with value: 0.0005005431648319136.\n",
      "[I 2023-10-27 12:40:50,959] Trial 3 finished with value: 0.0010540482767675287 and parameters: {'learning_rate': 0.009239996393186376, 'depth': 7, 'n_estimators': 65, 'l2_leaf_reg': 4.5740596306673105}. Best is trial 2 with value: 0.0005005431648319136.\n",
      "[I 2023-10-27 12:40:54,599] Trial 4 finished with value: 0.0007957068312212693 and parameters: {'learning_rate': 0.047237605298498284, 'depth': 4, 'n_estimators': 254, 'l2_leaf_reg': 4.819696170681585}. Best is trial 2 with value: 0.0005005431648319136.\n",
      "[I 2023-10-27 12:40:56,954] Trial 5 finished with value: 0.0009274726608285886 and parameters: {'learning_rate': 0.0295214332598401, 'depth': 3, 'n_estimators': 131, 'l2_leaf_reg': 8.879194816098734}. Best is trial 2 with value: 0.0005005431648319136.\n",
      "[I 2023-10-27 12:41:03,461] Trial 6 finished with value: 0.0006708417460606478 and parameters: {'learning_rate': 0.03616758647504537, 'depth': 8, 'n_estimators': 219, 'l2_leaf_reg': 5.784979772583835}. Best is trial 2 with value: 0.0005005431648319136.\n",
      "[I 2023-10-27 12:41:08,206] Trial 7 finished with value: 0.0006997200840694853 and parameters: {'learning_rate': 0.08049414463256561, 'depth': 5, 'n_estimators': 266, 'l2_leaf_reg': 7.381645653606303}. Best is trial 2 with value: 0.0005005431648319136.\n",
      "[I 2023-10-27 12:41:10,740] Trial 8 finished with value: 0.000794208083308896 and parameters: {'learning_rate': 0.06288555036871063, 'depth': 5, 'n_estimators': 125, 'l2_leaf_reg': 3.4729982912128863}. Best is trial 2 with value: 0.0005005431648319136.\n",
      "[I 2023-10-27 12:41:13,912] Trial 9 finished with value: 0.0007782546747959053 and parameters: {'learning_rate': 0.0767894135140288, 'depth': 4, 'n_estimators': 196, 'l2_leaf_reg': 2.5159411741032596}. Best is trial 2 with value: 0.0005005431648319136.\n",
      "[I 2023-10-27 12:41:36,180] Trial 10 finished with value: 0.000417076479502042 and parameters: {'learning_rate': 0.09522980092785352, 'depth': 10, 'n_estimators': 298, 'l2_leaf_reg': 1.0902643034842203}. Best is trial 10 with value: 0.000417076479502042.\n",
      "[I 2023-10-27 12:41:56,765] Trial 11 finished with value: 0.00041449968331349593 and parameters: {'learning_rate': 0.09924384160536547, 'depth': 10, 'n_estimators': 285, 'l2_leaf_reg': 1.0443515089959652}. Best is trial 11 with value: 0.00041449968331349593.\n",
      "[I 2023-10-27 12:42:04,522] Trial 12 finished with value: 0.0005077226683063828 and parameters: {'learning_rate': 0.09751253107341178, 'depth': 8, 'n_estimators': 297, 'l2_leaf_reg': 1.0305941173397122}. Best is trial 11 with value: 0.00041449968331349593.\n",
      "[I 2023-10-27 12:42:20,851] Trial 13 finished with value: 0.00045123900370504146 and parameters: {'learning_rate': 0.0970655852282282, 'depth': 10, 'n_estimators': 227, 'l2_leaf_reg': 1.1217383392686064}. Best is trial 11 with value: 0.00041449968331349593.\n",
      "[I 2023-10-27 12:42:22,329] Trial 14 finished with value: 0.0009029747069098196 and parameters: {'learning_rate': 0.09863694893447641, 'depth': 8, 'n_estimators': 13, 'l2_leaf_reg': 1.9324787748248937}. Best is trial 11 with value: 0.00041449968331349593.\n",
      "[I 2023-10-27 12:42:29,701] Trial 15 finished with value: 0.0005419778429740881 and parameters: {'learning_rate': 0.08621843453296066, 'depth': 9, 'n_estimators': 183, 'l2_leaf_reg': 2.361713625289844}. Best is trial 11 with value: 0.00041449968331349593.\n",
      "[I 2023-10-27 12:42:35,730] Trial 16 finished with value: 0.0005954008053699765 and parameters: {'learning_rate': 0.08715187982515588, 'depth': 7, 'n_estimators': 244, 'l2_leaf_reg': 1.236087154375439}. Best is trial 11 with value: 0.00041449968331349593.\n",
      "[I 2023-10-27 12:42:46,922] Trial 17 finished with value: 0.0005182806810846002 and parameters: {'learning_rate': 0.06632936632071779, 'depth': 9, 'n_estimators': 292, 'l2_leaf_reg': 2.9646869162617975}. Best is trial 11 with value: 0.00041449968331349593.\n",
      "[I 2023-10-27 12:42:50,946] Trial 18 finished with value: 0.0006589530114028611 and parameters: {'learning_rate': 0.08916525972522095, 'depth': 6, 'n_estimators': 209, 'l2_leaf_reg': 1.9908914513600253}. Best is trial 11 with value: 0.00041449968331349593.\n",
      "[I 2023-10-27 12:43:09,099] Trial 19 finished with value: 0.00048680424600318285 and parameters: {'learning_rate': 0.07260923304736883, 'depth': 10, 'n_estimators': 249, 'l2_leaf_reg': 3.3443643745222147}. Best is trial 11 with value: 0.00041449968331349593.\n",
      "[I 2023-10-27 12:43:12,867] Trial 20 finished with value: 0.0006473664314526873 and parameters: {'learning_rate': 0.0884485556253531, 'depth': 9, 'n_estimators': 79, 'l2_leaf_reg': 1.9116479886382458}. Best is trial 11 with value: 0.00041449968331349593.\n",
      "[I 2023-10-27 12:43:29,451] Trial 21 finished with value: 0.0004523731054092149 and parameters: {'learning_rate': 0.09803443667115441, 'depth': 10, 'n_estimators': 227, 'l2_leaf_reg': 1.410882310556488}. Best is trial 11 with value: 0.00041449968331349593.\n",
      "[I 2023-10-27 12:43:49,488] Trial 22 finished with value: 0.0004182301327718527 and parameters: {'learning_rate': 0.09988555166821284, 'depth': 10, 'n_estimators': 274, 'l2_leaf_reg': 1.0361220164745615}. Best is trial 11 with value: 0.00041449968331349593.\n",
      "[I 2023-10-27 12:43:59,758] Trial 23 finished with value: 0.0004948903182789666 and parameters: {'learning_rate': 0.08485827007574359, 'depth': 9, 'n_estimators': 272, 'l2_leaf_reg': 2.415814515546291}. Best is trial 11 with value: 0.00041449968331349593.\n",
      "[I 2023-10-27 12:44:07,518] Trial 24 finished with value: 0.0005171504300580024 and parameters: {'learning_rate': 0.09155089454626014, 'depth': 8, 'n_estimators': 289, 'l2_leaf_reg': 1.0423910967159524}. Best is trial 11 with value: 0.00041449968331349593.\n",
      "[I 2023-10-27 12:44:28,977] Trial 25 finished with value: 0.0004427872217280589 and parameters: {'learning_rate': 0.07848332743356388, 'depth': 10, 'n_estimators': 298, 'l2_leaf_reg': 1.7816397198956975}. Best is trial 11 with value: 0.00041449968331349593.\n",
      "[I 2023-10-27 12:44:38,863] Trial 26 finished with value: 0.0004782197001833531 and parameters: {'learning_rate': 0.09957585522474774, 'depth': 9, 'n_estimators': 261, 'l2_leaf_reg': 2.8359211887778546}. Best is trial 11 with value: 0.00041449968331349593.\n",
      "[I 2023-10-27 12:44:43,003] Trial 27 finished with value: 0.000657546066779516 and parameters: {'learning_rate': 0.0697372321299263, 'depth': 7, 'n_estimators': 179, 'l2_leaf_reg': 1.7075125328086176}. Best is trial 11 with value: 0.00041449968331349593.\n",
      "[I 2023-10-27 12:45:00,191] Trial 28 finished with value: 0.0004604612595028338 and parameters: {'learning_rate': 0.09276432958617346, 'depth': 10, 'n_estimators': 235, 'l2_leaf_reg': 2.4886113004549726}. Best is trial 11 with value: 0.00041449968331349593.\n",
      "[I 2023-10-27 12:45:20,216] Trial 29 finished with value: 0.0004585002158250831 and parameters: {'learning_rate': 0.08126245986143346, 'depth': 10, 'n_estimators': 274, 'l2_leaf_reg': 3.9958122013128663}. Best is trial 11 with value: 0.00041449968331349593.\n"
     ]
    },
    {
     "name": "stdout",
     "output_type": "stream",
     "text": [
      "Best hyperparameters: {'learning_rate': 0.09924384160536547, 'depth': 10, 'n_estimators': 285, 'l2_leaf_reg': 1.0443515089959652}\n",
      "Best score: 0.00041449968331349593\n",
      "H2S, мг/м³\n",
      "\n"
     ]
    }
   ],
   "source": [
    "for substance in substances:\n",
    "    def objective(trial,\n",
    "                  substance=substance,\n",
    "                  points=points,\n",
    "                  X_num_list=X_num_list\n",
    "        ):\n",
    "        \n",
    "        X, y = make_X_y()\n",
    "        X_train_scl, X_test_scl, y_train, y_test = split_scale_df(X, y)\n",
    "        \n",
    "        # CatBoostRegressor\n",
    "        catboost_params = {\n",
    "            'learning_rate': trial.suggest_float('learning_rate', 0.001, 0.1),\n",
    "            'depth': trial.suggest_int('depth', 3, 10),\n",
    "            'n_estimators': trial.suggest_int('n_estimators', 10, 300),    # =iterations\n",
    "            'l2_leaf_reg': trial.suggest_float('l2_leaf_reg', 1, 10),\n",
    "        }\n",
    "        catboost = CatBoostRegressor(**catboost_params, random_state=0)\n",
    "        catboost.fit(X_train_scl, y_train, early_stopping_rounds=200, verbose=0)\n",
    "        \n",
    "        # Прогнозы и ошибки\n",
    "        pred = catboost.predict(X_test_scl)\n",
    "        pred[pred < 0] = 0\n",
    "        catboost_mae = mean_absolute_error(y_test, pred)\n",
    "        \n",
    "        return catboost_mae\n",
    "\n",
    "    # Запуск оптимизации гиперпараметров\n",
    "    study = optuna.create_study(direction='minimize')\n",
    "    study.optimize(objective, n_trials=30)\n",
    "\n",
    "    print('Best hyperparameters:', study.best_params)\n",
    "    print('Best score:', study.best_value)\n",
    "    print(substance)\n",
    "    print()"
   ]
  },
  {
   "cell_type": "markdown",
   "id": "1a8e2c15-670c-4a16-acfc-220121a0e1b7",
   "metadata": {},
   "source": [
    "**CO, мг/м³**  \n",
    "Best hyperparameters: {'learning_rate': 0.09353304901542561, 'depth': 10, 'n_estimators': 268, 'l2_leaf_reg': 5.424800121578394}  \n",
    "Best score: 0.08069015210079558  м³м³м³м³м³"
   ]
  },
  {
   "cell_type": "markdown",
   "id": "80bd9220-c605-424f-aff1-d9cbb3adc1e3",
   "metadata": {},
   "source": [
    "**NO, мг/м³**  \n",
    "Best hyperparameters: {'learning_rate': 0.09237777041884405, 'depth': 10, 'n_estimators': 225, 'l2_leaf_reg': 1.7892158913147767}  \n",
    "Best score: 0.0020123957063985435  "
   ]
  },
  {
   "cell_type": "markdown",
   "id": "4526ba1c-da1b-4b53-90f6-308b09ac3142",
   "metadata": {},
   "source": [
    "**NO2, мг/м³**  \n",
    "Best hyperparameters: {'learning_rate': 0.09924059086275548, 'depth': 10, 'n_estimators': 255, 'l2_leaf_reg': 1.023897651393103}  \n",
    "Best score: 0.004642527376963059  "
   ]
  },
  {
   "cell_type": "markdown",
   "id": "5dcc9670-68fe-4e11-8c0c-dd0d2ca0a2eb",
   "metadata": {},
   "source": [
    "**NH3, мг/м³**  \n",
    "Best hyperparameters: {'learning_rate': 0.09775410083375517, 'depth': 10, 'n_estimators': 298, 'l2_leaf_reg': 3.575957776379207}  \n",
    "Best score: 0.0005551241038935759  "
   ]
  },
  {
   "cell_type": "markdown",
   "id": "bf6f720b-785b-42f1-a001-4906ce17747b",
   "metadata": {},
   "source": [
    "**SO2, мг/м³**  \n",
    "Best hyperparameters: {'learning_rate': 0.09983066685185675, 'depth': 9, 'n_estimators': 298, 'l2_leaf_reg': 3.8998860942858236}  \n",
    "Best score: 0.005992643897162339  "
   ]
  },
  {
   "cell_type": "markdown",
   "id": "8495b924-b0ca-4f5f-acdd-21abcf74a1f8",
   "metadata": {},
   "source": [
    "**H2S, мг/м³**  \n",
    "Best hyperparameters: {'learning_rate': 0.09924384160536547, 'depth': 10, 'n_estimators': 285, 'l2_leaf_reg': 1.0443515089959652}  \n",
    "Best score: 0.00041449968331349593  "
   ]
  },
  {
   "cell_type": "code",
   "execution_count": null,
   "id": "f3324ad8-77aa-47a1-ae61-13b60d78d2f8",
   "metadata": {},
   "outputs": [],
   "source": []
  },
  {
   "cell_type": "code",
   "execution_count": null,
   "id": "e446ee7d-c277-41ef-84b4-f7687ac65de5",
   "metadata": {},
   "outputs": [],
   "source": []
  },
  {
   "cell_type": "code",
   "execution_count": null,
   "id": "895f4cc9-d5d0-4afd-ae38-a63ea9152596",
   "metadata": {},
   "outputs": [],
   "source": []
  },
  {
   "cell_type": "code",
   "execution_count": null,
   "id": "58f655d2-ceda-4331-be7f-042cfb6e1fcd",
   "metadata": {},
   "outputs": [],
   "source": []
  },
  {
   "cell_type": "code",
   "execution_count": null,
   "id": "b726e5a6-3f64-4dd2-843a-0687a5a42d9d",
   "metadata": {},
   "outputs": [],
   "source": []
  }
 ],
 "metadata": {
  "kernelspec": {
   "display_name": "Air_Pollution_Nizhnekamsk",
   "language": "python",
   "name": "airenv"
  },
  "language_info": {
   "codemirror_mode": {
    "name": "ipython",
    "version": 3
   },
   "file_extension": ".py",
   "mimetype": "text/x-python",
   "name": "python",
   "nbconvert_exporter": "python",
   "pygments_lexer": "ipython3",
   "version": "3.10.5"
  }
 },
 "nbformat": 4,
 "nbformat_minor": 5
}
